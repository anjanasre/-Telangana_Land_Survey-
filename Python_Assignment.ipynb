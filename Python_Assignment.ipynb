{
  "nbformat": 4,
  "nbformat_minor": 0,
  "metadata": {
    "colab": {
      "provenance": []
    },
    "kernelspec": {
      "name": "python3",
      "display_name": "Python 3"
    },
    "language_info": {
      "name": "python"
    }
  },
  "cells": [
    {
      "cell_type": "code",
      "execution_count": 4,
      "metadata": {
        "id": "jNQ5RMmpFZv-"
      },
      "outputs": [],
      "source": [
        "import csv\n",
        "import requests\n",
        "from bs4 import BeautifulSoup"
      ]
    },
    {
      "cell_type": "code",
      "source": [
        "def get_survey_numbers(district, mandal, village):\n",
        "    url = \"https://dharani.telangana.gov.in/knowLandStatus\"\n",
        "    data = {\n",
        "        \"district\": district,\n",
        "        \"mandal\": mandal,\n",
        "        \"village\": village\n",
        "    }\n",
        "\n",
        "    response = requests.post(url, data=data)\n",
        "\n",
        "    soup = BeautifulSoup(response.text, 'html.parser')\n",
        "\n",
        "    table = soup.find('table', {'id': 'sampleTable'})\n",
        "\n",
        "    survey_numbers = []\n",
        "\n",
        "    if table:\n",
        "        rows = table.find_all('tr')\n",
        "        for row in rows[1:]:\n",
        "            cols = row.find_all('td')\n",
        "            survey_numbers.append(cols[2].text.strip())\n",
        "\n",
        "    return survey_numbers\n",
        "\n",
        "def main():\n",
        "    district = input(\"Enter the district: \")\n",
        "    mandal = input(\"Enter the mandal: \")\n",
        "    village = input(\"Enter the village: \")\n",
        "\n",
        "    survey_numbers = get_survey_numbers(district, mandal, village)\n",
        "\n",
        "    if survey_numbers:\n",
        "        with open('survey_numbers.csv', 'w', newline='') as csvfile:\n",
        "            csv_writer = csv.writer(csvfile)\n",
        "            csv_writer.writerow(['Survey Numbers'])\n",
        "            for number in survey_numbers:\n",
        "                csv_writer.writerow([number])\n",
        "        print(\"Survey numbers saved to survey_numbers.csv\")\n",
        "    else:\n",
        "        print(\"No survey numbers found for the given input.\")\n",
        "\n",
        "if __name__ == \"__main__\":\n",
        "    main()"
      ],
      "metadata": {
        "colab": {
          "base_uri": "https://localhost:8080/"
        },
        "id": "as2Y7OcsF13e",
        "outputId": "9e3a2988-4370-4934-fd9d-0dbb85b92e48"
      },
      "execution_count": 5,
      "outputs": [
        {
          "output_type": "stream",
          "name": "stdout",
          "text": [
            "Enter the district: Ahmedhabad\n",
            "Enter the mandal: admedhabad urban\n",
            "Enter the village: ahedhabad\n",
            "No survey numbers found for the given input.\n"
          ]
        }
      ]
    }
  ]
}